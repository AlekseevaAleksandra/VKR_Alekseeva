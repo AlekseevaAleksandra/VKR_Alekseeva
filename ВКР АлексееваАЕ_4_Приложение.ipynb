{
 "cells": [
  {
   "cell_type": "markdown",
   "id": "72740b3c",
   "metadata": {},
   "source": [
    "Подготовка к ВКР_Приложение"
   ]
  },
  {
   "cell_type": "code",
   "execution_count": 2,
   "id": "766b4b97",
   "metadata": {},
   "outputs": [],
   "source": [
    "# импорт библиотек\n",
    "import numpy as np\n",
    "import pandas as pd\n",
    "import matplotlib.pyplot as plt\n",
    "import seaborn as sns\n",
    "import sklearn\n",
    "from pandas import read_excel, DataFrame, Series\n",
    "from sklearn import linear_model\n",
    "from sklearn.ensemble import RandomForestRegressor, GradientBoostingRegressor\n",
    "from sklearn.linear_model import LinearRegression, LogisticRegression, SGDRegressor\n",
    "from sklearn.metrics import mean_squared_error, r2_score, mean_absolute_percentage_error, mean_absolute_error, accuracy_score\n",
    "from sklearn.model_selection import train_test_split, GridSearchCV, KFold, cross_val_score\n",
    "from sklearn.neighbors import KNeighborsRegressor\n",
    "from sklearn.neural_network import MLPRegressor\n",
    "from sklearn.pipeline import make_pipeline, Pipeline\n",
    "from sklearn import preprocessing\n",
    "from sklearn.preprocessing import Normalizer, LabelEncoder, MinMaxScaler, StandardScaler\n",
    "from sklearn.svm import SVR\n",
    "from sklearn.tree import DecisionTreeRegressor\n",
    "from numpy.random import seed\n",
    "from scipy import stats\n",
    "import warnings\n",
    "warnings.filterwarnings(\"ignore\")\n",
    "from sklearn.ensemble import AdaBoostClassifier\n",
    "from sklearn.metrics import confusion_matrix\n",
    "from joblib import dump, load\n",
    "from joblib import Parallel, delayed\n",
    "import joblib"
   ]
  },
  {
   "cell_type": "code",
   "execution_count": 3,
   "id": "19ffa1a3",
   "metadata": {},
   "outputs": [],
   "source": [
    "# Загружаем сохраненную ранее модель регрессии:\n",
    "model_l = load('joblib_LR.joblib')"
   ]
  },
  {
   "cell_type": "code",
   "execution_count": 7,
   "id": "8e22d40a",
   "metadata": {},
   "outputs": [
    {
     "name": "stdout",
     "output_type": "stream",
     "text": [
      "Введите значение переменной Соотношение матрица-наполнитель: 1\n",
      "Введите значение переменной Плотность: 1\n",
      "Введите значение переменной Модуль упругости: 1\n",
      "Введите значение переменной Количество отвердителя: 1\n",
      "Введите значение переменной Содержание эпоксидных групп: 1\n",
      "Введите значение переменной Температура вспышки: 1\n",
      "Введите значение переменной Поверхностная плотность: 1\n",
      "Введите значение переменной Модуль упругости при растяжении: 1\n",
      "Введите значение переменной Потребление смолы: 1\n",
      "Введите значение переменной Угол нашивки: 1\n",
      "Введите значение переменной Шаг нашивки: 1\n",
      "Введите значение переменной Плотность нашивки: 1\n",
      "Проверьте введенные значения:\n",
      "Соотношение матрица-наполнитель:  1.0\n",
      "Плотность:  1.0\n",
      "Модуль упругости:  1.0\n",
      "Количество отвердителя:  1.0\n",
      "Содержание эпоксидных групп:  1.0\n",
      "Температура вспышки:  1.0\n",
      "Поверхностная плотность:  1.0\n",
      "Модуль упругости при растяжении:  1.0\n",
      "Потребление смолы:  1.0\n",
      "Угол нашивки:  1\n",
      "Шаг нашивки:  1.0\n",
      "Плотность нашивки:  1.0\n"
     ]
    }
   ],
   "source": [
    "# Просим пользователя последовательно ввести значения всех переменных, \n",
    "# выводим результат ввода для проверки (тут опасность в том, что если пользователь ошибся в одной переменной, \n",
    "# то нужно перевводить все (в первом варианте это исключено, но нужно на кнопку запуска нажимать каждый раз))\n",
    "Соотношение_матрица_наполнитель = float(input('Введите значение переменной Соотношение матрица-наполнитель: '))\n",
    "Плотность = float(input('Введите значение переменной Плотность: '))\n",
    "Модуль_упругости = float(input('Введите значение переменной Модуль упругости: '))\n",
    "Количество_отвердителя = float(input('Введите значение переменной Количество отвердителя: '))\n",
    "Содержание_эпоксидных_групп = float(input('Введите значение переменной Содержание эпоксидных групп: '))\n",
    "Температура_вспышки = float(input('Введите значение переменной Температура вспышки: '))\n",
    "Поверхностная_плотность = float(input('Введите значение переменной Поверхностная плотность: '))\n",
    "Модуль_упругости_при_растяжении = float(input('Введите значение переменной Модуль упругости при растяжении: '))\n",
    "Потребление_смолы = float(input('Введите значение переменной Потребление смолы: '))\n",
    "Угол_нашивки = int(input('Введите значение переменной Угол нашивки: '))\n",
    "Шаг_нашивки = float(input('Введите значение переменной Шаг нашивки: '))\n",
    "Плотность_нашивки = float(input('Введите значение переменной Плотность нашивки: '))\n",
    "print('Проверьте введенные значения:')\n",
    "print('Соотношение матрица-наполнитель: ', Соотношение_матрица_наполнитель)\n",
    "print('Плотность: ', Плотность)\n",
    "print('Модуль упругости: ', Модуль_упругости)\n",
    "print('Количество отвердителя: ', Количество_отвердителя)\n",
    "print('Содержание эпоксидных групп: ', Содержание_эпоксидных_групп)\n",
    "print('Температура вспышки: ', Температура_вспышки)\n",
    "print('Поверхностная плотность: ', Поверхностная_плотность)\n",
    "print('Модуль упругости при растяжении: ', Модуль_упругости_при_растяжении)\n",
    "print('Потребление смолы: ', Потребление_смолы)\n",
    "print('Угол нашивки: ', Угол_нашивки)\n",
    "print('Шаг нашивки: ', Шаг_нашивки)\n",
    "print('Плотность нашивки: ', Плотность_нашивки)"
   ]
  },
  {
   "cell_type": "code",
   "execution_count": 10,
   "id": "4541a8e6",
   "metadata": {},
   "outputs": [
    {
     "name": "stdout",
     "output_type": "stream",
     "text": [
      "Введите \"да\", если готовы продолжить, и \"нет\" в противном случае: да\n",
      "Прочность при растяжении:  [[2390.18877835]]\n"
     ]
    }
   ],
   "source": [
    "# Запрашиваем подтверждение на продолжение у пользователя и, при положительном ответе сохраняем введенные ранее данные\n",
    "# в датафрейм и передаем датафрейм в модель для прогноза;\n",
    "# при отрицательном ответе прощаемся и выходим из процедуры\n",
    "# недоработки: по-хорошему нужно ещё предусмотреть, что делать со значениями ни \"да\", ни \"нет\"\n",
    "y_n = str(input('Введите \"да\", если готовы продолжить, и \"нет\" в противном случае: '))\n",
    "def predicts():\n",
    "    if y_n == 'да':\n",
    "        df_x_test = pd.DataFrame([[Соотношение_матрица_наполнитель, Плотность, Модуль_упругости, Количество_отвердителя, Содержание_эпоксидных_групп, Температура_вспышки, Поверхностная_плотность, Модуль_упругости_при_растяжении, Потребление_смолы, Угол_нашивки, Шаг_нашивки, Плотность_нашивки]], \n",
    "        columns=['Соотношение_матрица_наполнитель', 'Плотность','Модуль_упругости','Количество_отвердителя','Содержание_эпоксидных_групп','Температура_вспышки','Поверхностная_плотность','Модуль_упругости_при_растяжении','Потребление_смолы','Угол_нашивки','Шаг_нашивки','Плотность_нашивки'])\n",
    "        result_pred = model_l.predict(df_x_test)\n",
    "        print('Прочность при растяжении: ', result_pred)\n",
    "    elif y_n == 'нет': # при значении \"нет\" ядро умирает\n",
    "        print('Всего хорошего!')\n",
    "        #exit()\n",
    "predicts()"
   ]
  },
  {
   "cell_type": "code",
   "execution_count": null,
   "id": "5b694221",
   "metadata": {},
   "outputs": [],
   "source": []
  }
 ],
 "metadata": {
  "kernelspec": {
   "display_name": "Python 3 (ipykernel)",
   "language": "python",
   "name": "python3"
  },
  "language_info": {
   "codemirror_mode": {
    "name": "ipython",
    "version": 3
   },
   "file_extension": ".py",
   "mimetype": "text/x-python",
   "name": "python",
   "nbconvert_exporter": "python",
   "pygments_lexer": "ipython3",
   "version": "3.9.12"
  }
 },
 "nbformat": 4,
 "nbformat_minor": 5
}
